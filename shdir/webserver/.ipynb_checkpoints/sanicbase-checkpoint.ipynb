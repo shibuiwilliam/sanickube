{
 "cells": [
  {
   "cell_type": "code",
   "execution_count": 5,
   "metadata": {},
   "outputs": [],
   "source": [
    "from sanic import Sanic\n",
    "from sanic.response import json"
   ]
  },
  {
   "cell_type": "code",
   "execution_count": 6,
   "metadata": {},
   "outputs": [],
   "source": [
    "app = Sanic()"
   ]
  },
  {
   "cell_type": "code",
   "execution_count": 7,
   "metadata": {},
   "outputs": [],
   "source": [
    "@app.route(\"/\")\n",
    "async def test(request):\n",
    "    return json({\"hello\": \"world\"})"
   ]
  },
  {
   "cell_type": "code",
   "execution_count": 9,
   "metadata": {},
   "outputs": [
    {
     "name": "stdout",
     "output_type": "stream",
     "text": [
      "[2018-01-08 07:34:12 +0000] [31] [INFO] Goin' Fast @ http://0.0.0.0:8000\n",
      "[2018-01-08 07:34:12 +0000] [31] [INFO] Starting worker [31]\n",
      "[2018-01-08 08:01:37 +0000] - (sanic.access)[INFO][1:2]: GET http://localhost:8000/  200 17\n",
      "[2018-01-08 08:06:04 +0000] - (sanic.access)[INFO][1:2]: GET http://localhost:8000/  200 17\n",
      "[2018-01-08 08:30:19 +0000] - (sanic.access)[INFO][1:2]: GET http://localhost:8000/  200 17\n",
      "[2018-01-08 08:31:07 +0000] - (sanic.access)[INFO][1:2]: GET http://localhost:8000/  200 17\n",
      "[2018-01-08 08:31:30 +0000] - (sanic.access)[INFO][1:2]: GET http://localhost:8000/  200 17\n",
      "[2018-01-08 08:31:52 +0000] - (sanic.access)[INFO][1:2]: GET http://localhost:8000/  200 17\n",
      "[2018-01-08 08:33:04 +0000] [31] [INFO] Stopping worker [31]\n",
      "[2018-01-08 08:33:04 +0000] [31] [INFO] Server Stopped\n"
     ]
    }
   ],
   "source": [
    "if __name__ == \"__main__\":\n",
    "    app.run(host=\"0.0.0.0\", port=8000)"
   ]
  },
  {
   "cell_type": "code",
   "execution_count": null,
   "metadata": {},
   "outputs": [],
   "source": []
  }
 ],
 "metadata": {
  "anaconda-cloud": {},
  "kernelspec": {
   "display_name": "Python [default]",
   "language": "python",
   "name": "python3"
  },
  "language_info": {
   "codemirror_mode": {
    "name": "ipython",
    "version": 3
   },
   "file_extension": ".py",
   "mimetype": "text/x-python",
   "name": "python",
   "nbconvert_exporter": "python",
   "pygments_lexer": "ipython3",
   "version": "3.5.2"
  }
 },
 "nbformat": 4,
 "nbformat_minor": 1
}
