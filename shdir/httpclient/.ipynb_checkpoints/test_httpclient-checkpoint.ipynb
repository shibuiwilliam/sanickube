{
 "cells": [
  {
   "cell_type": "code",
   "execution_count": 31,
   "metadata": {},
   "outputs": [],
   "source": [
    "import pytest\n",
    "import httpclient"
   ]
  },
  {
   "cell_type": "code",
   "execution_count": 29,
   "metadata": {},
   "outputs": [],
   "source": [
    "class TestHttpClient(object):\n",
    "    def setup(self):\n",
    "        print(\"setup httpclient\")\n",
    "        self.hc = httpclient.HttpClient()\n",
    "        self.hc.setParams(directory=\"/\", method=\"GET\")\n",
    "    def test_setparams(self):\n",
    "        assert self.hc.params[\"directory\"] == \"/\"\n",
    "        assert self.hc.params[\"method\"] == \"GET\"\n",
    "        assert self.hc.params[\"headers\"] == {\"Content-Type\" : \"application/json\"}\n",
    "    def test_request(self):\n",
    "        assert self.hc.request() == '{\"hello\":\"world\"}'\n",
    "    def teardown(self):\n",
    "        self.hc = None\n",
    "        print(\"teardown httpclient\")"
   ]
  },
  {
   "cell_type": "code",
   "execution_count": null,
   "metadata": {},
   "outputs": [],
   "source": []
  }
 ],
 "metadata": {
  "anaconda-cloud": {},
  "kernelspec": {
   "display_name": "Python [default]",
   "language": "python",
   "name": "python3"
  },
  "language_info": {
   "codemirror_mode": {
    "name": "ipython",
    "version": 3
   },
   "file_extension": ".py",
   "mimetype": "text/x-python",
   "name": "python",
   "nbconvert_exporter": "python",
   "pygments_lexer": "ipython3",
   "version": "3.5.2"
  }
 },
 "nbformat": 4,
 "nbformat_minor": 1
}
