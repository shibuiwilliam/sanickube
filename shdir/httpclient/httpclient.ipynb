{
 "cells": [
  {
   "cell_type": "code",
   "execution_count": 1,
   "metadata": {},
   "outputs": [],
   "source": [
    "import urllib.request\n",
    "import json"
   ]
  },
  {
   "cell_type": "code",
   "execution_count": 7,
   "metadata": {},
   "outputs": [],
   "source": [
    "class HttpClient(object):\n",
    "    def __init__(self, url=\"localhost\", port=str(8000)):\n",
    "        self.url = \"http://\" + url + \":\" + port\n",
    "        self.params = {\"directory\": \"/\"} \n",
    "    def setParams(self, \n",
    "               directory=\"/\", \n",
    "               method=\"GET\", \n",
    "               headers={\"Content-Type\" : \"application/json\"}):\n",
    "        self.params[\"directory\"] = directory\n",
    "        self.params[\"method\"] = method\n",
    "        self.params[\"headers\"] = headers\n",
    "    def request(self, data=None):\n",
    "        reqFullUrl = self.url + self.params[\"directory\"]\n",
    "        request = urllib.request.Request(self.url, data=data, method=self.params[\"method\"], headers=self.params[\"headers\"])\n",
    "        with urllib.request.urlopen(request) as response:\n",
    "            response_body = response.read().decode(\"utf-8\")\n",
    "            return response_body"
   ]
  },
  {
   "cell_type": "code",
   "execution_count": null,
   "metadata": {},
   "outputs": [],
   "source": []
  }
 ],
 "metadata": {
  "anaconda-cloud": {},
  "kernelspec": {
   "display_name": "Python [default]",
   "language": "python",
   "name": "python3"
  },
  "language_info": {
   "codemirror_mode": {
    "name": "ipython",
    "version": 3
   },
   "file_extension": ".py",
   "mimetype": "text/x-python",
   "name": "python",
   "nbconvert_exporter": "python",
   "pygments_lexer": "ipython3",
   "version": "3.5.2"
  }
 },
 "nbformat": 4,
 "nbformat_minor": 1
}
