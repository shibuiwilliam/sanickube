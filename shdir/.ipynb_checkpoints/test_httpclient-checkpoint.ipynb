{
 "cells": [
  {
   "cell_type": "code",
   "execution_count": 11,
   "metadata": {},
   "outputs": [],
   "source": [
    "import httpclient"
   ]
  },
  {
   "cell_type": "code",
   "execution_count": 10,
   "metadata": {},
   "outputs": [],
   "source": [
    "class HttpClient(object):\n",
    "    def __init__(self, url=\"localhost\", port=str(8000)):\n",
    "        self.url = \"http://\" + url + \":\" + port\n",
    "        self.params = {} \n",
    "    def setParams(self, \n",
    "               directory=\"/\", \n",
    "               method=\"GET\", \n",
    "               headers={\"Content-Type\" : \"application/json\"}):\n",
    "        self.params[\"directory\"] = directory\n",
    "        self.params[\"method\"] = method\n",
    "        self.params[\"headers\"] = headers\n",
    "    def request(self, data=None):\n",
    "        request = urllib.request.Request(url, data=data, method=method, headers=headers)\n",
    "        with urllib.request.urlopen(request) as response:\n",
    "            response_body = response.read().decode(\"utf-8\")\n",
    "            return response_body"
   ]
  },
  {
   "cell_type": "code",
   "execution_count": 12,
   "metadata": {},
   "outputs": [
    {
     "data": {
      "text/plain": [
       "CompletedProcess(args=['jupyter', 'nbconvert', '--to', 'python', 'httpclient.ipynb'], returncode=0)"
      ]
     },
     "execution_count": 12,
     "metadata": {},
     "output_type": "execute_result"
    }
   ],
   "source": [
    "import subprocess\n",
    "subprocess.run(['jupyter', 'nbconvert', '--to', 'python', 'httpclient.ipynb'])"
   ]
  },
  {
   "cell_type": "code",
   "execution_count": null,
   "metadata": {},
   "outputs": [],
   "source": []
  }
 ],
 "metadata": {
  "anaconda-cloud": {},
  "kernelspec": {
   "display_name": "Python [default]",
   "language": "python",
   "name": "python3"
  },
  "language_info": {
   "codemirror_mode": {
    "name": "ipython",
    "version": 3
   },
   "file_extension": ".py",
   "mimetype": "text/x-python",
   "name": "python",
   "nbconvert_exporter": "python",
   "pygments_lexer": "ipython3",
   "version": "3.5.2"
  }
 },
 "nbformat": 4,
 "nbformat_minor": 1
}
